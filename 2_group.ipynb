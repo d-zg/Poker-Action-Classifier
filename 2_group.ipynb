{
  "nbformat": 4,
  "nbformat_minor": 0,
  "metadata": {
    "kernelspec": {
      "name": "python3",
      "display_name": "Python 3"
    },
    "colab": {
      "name": "2_group.ipynb",
      "provenance": [],
      "include_colab_link": true
    }
  },
  "cells": [
    {
      "cell_type": "markdown",
      "metadata": {
        "id": "view-in-github",
        "colab_type": "text"
      },
      "source": [
        "<a href=\"https://colab.research.google.com/github/d-zg/Poker-Action-Classifier/blob/main/2_group.ipynb\" target=\"_parent\"><img src=\"https://colab.research.google.com/assets/colab-badge.svg\" alt=\"Open In Colab\"/></a>"
      ]
    },
    {
      "cell_type": "code",
      "metadata": {
        "id": "fA5M9VYoBZ8J",
        "outputId": "645769d7-64c5-4c14-b7ff-7bd717ddd990",
        "colab": {
          "base_uri": "https://localhost:8080/"
        }
      },
      "source": [
        "#install mrjob\n",
        "!pip install mrjob\n",
        "!pip install boto3"
      ],
      "execution_count": 1,
      "outputs": [
        {
          "output_type": "stream",
          "name": "stdout",
          "text": [
            "Looking in indexes: https://pypi.org/simple, https://us-python.pkg.dev/colab-wheels/public/simple/\n",
            "Collecting mrjob\n",
            "  Downloading mrjob-0.7.4-py2.py3-none-any.whl (439 kB)\n",
            "\u001b[2K     \u001b[90m━━━━━━━━━━━━━━━━━━━━━━━━━━━━━━━━━━━━━━\u001b[0m \u001b[32m439.6/439.6 KB\u001b[0m \u001b[31m17.0 MB/s\u001b[0m eta \u001b[36m0:00:00\u001b[0m\n",
            "\u001b[?25hRequirement already satisfied: PyYAML>=3.10 in /usr/local/lib/python3.9/dist-packages (from mrjob) (6.0)\n",
            "Installing collected packages: mrjob\n",
            "Successfully installed mrjob-0.7.4\n",
            "Looking in indexes: https://pypi.org/simple, https://us-python.pkg.dev/colab-wheels/public/simple/\n",
            "Collecting boto3\n",
            "  Downloading boto3-1.26.103-py3-none-any.whl (135 kB)\n",
            "\u001b[2K     \u001b[90m━━━━━━━━━━━━━━━━━━━━━━━━━━━━━━━━━━━━━━━\u001b[0m \u001b[32m135.6/135.6 KB\u001b[0m \u001b[31m3.0 MB/s\u001b[0m eta \u001b[36m0:00:00\u001b[0m\n",
            "\u001b[?25hCollecting s3transfer<0.7.0,>=0.6.0\n",
            "  Downloading s3transfer-0.6.0-py3-none-any.whl (79 kB)\n",
            "\u001b[2K     \u001b[90m━━━━━━━━━━━━━━━━━━━━━━━━━━━━━━━━━━━━━━━━\u001b[0m \u001b[32m79.6/79.6 KB\u001b[0m \u001b[31m4.0 MB/s\u001b[0m eta \u001b[36m0:00:00\u001b[0m\n",
            "\u001b[?25hCollecting jmespath<2.0.0,>=0.7.1\n",
            "  Downloading jmespath-1.0.1-py3-none-any.whl (20 kB)\n",
            "Collecting botocore<1.30.0,>=1.29.103\n",
            "  Downloading botocore-1.29.103-py3-none-any.whl (10.6 MB)\n",
            "\u001b[2K     \u001b[90m━━━━━━━━━━━━━━━━━━━━━━━━━━━━━━━━━━━━━━━━\u001b[0m \u001b[32m10.6/10.6 MB\u001b[0m \u001b[31m18.5 MB/s\u001b[0m eta \u001b[36m0:00:00\u001b[0m\n",
            "\u001b[?25hRequirement already satisfied: python-dateutil<3.0.0,>=2.1 in /usr/local/lib/python3.9/dist-packages (from botocore<1.30.0,>=1.29.103->boto3) (2.8.2)\n",
            "Requirement already satisfied: urllib3<1.27,>=1.25.4 in /usr/local/lib/python3.9/dist-packages (from botocore<1.30.0,>=1.29.103->boto3) (1.26.15)\n",
            "Requirement already satisfied: six>=1.5 in /usr/local/lib/python3.9/dist-packages (from python-dateutil<3.0.0,>=2.1->botocore<1.30.0,>=1.29.103->boto3) (1.16.0)\n",
            "Installing collected packages: jmespath, botocore, s3transfer, boto3\n",
            "Successfully installed boto3-1.26.103 botocore-1.29.103 jmespath-1.0.1 s3transfer-0.6.0\n"
          ]
        }
      ]
    },
    {
      "cell_type": "markdown",
      "metadata": {
        "id": "raRpayWPBoxh"
      },
      "source": [
        "# Using multi steps\n",
        "\n",
        "A MR job has multiple steps. Read about reducer and steps in https://buildmedia.readthedocs.org/media/pdf/mrjob/latest/mrjob.pdf\n",
        "\n",
        "A “step” consists of a mapper, a combiner, and a reducer. All of those are optional, though you must have at least one.\n",
        "So you could have a step that’s just a mapper, or just a combiner and a reducer.\n",
        "When you only have one step, all you have to do is write methods called mapper(), combiner(), and\n",
        "reducer()"
      ]
    },
    {
      "cell_type": "code",
      "metadata": {
        "id": "yroHnOpNBPI4",
        "outputId": "ae0a4a4b-a852-4f22-acf6-545f74299588",
        "colab": {
          "base_uri": "https://localhost:8080/"
        }
      },
      "source": [
        "%%file 2_group.py\n",
        "from mrjob.job import MRJob\n",
        "from mrjob.step import MRStep\n",
        "import json\n",
        "\n",
        "'''\n",
        "\n",
        "\n",
        "See http://mike.teczno.com/notes/streaming-data-from-twitter.html for parsing info.\n",
        "Get the screen name by accessing tweet['user']['screen_name']\n",
        "\n",
        "Output:\n",
        "number_of_most_tweets    username\n",
        "\n",
        "(note that MRJob automatically adds a tab for you)\n",
        "'''\n",
        "# read the \n",
        "class GroupMaxTweets(MRJob):\n",
        "    # The _ means the field does not matter.;\n",
        "    def mapper(self, _, line):\n",
        "        try:\n",
        "          tweet = json.loads(line)\n",
        "          yield tweet['user']['screen_name'], 1\n",
        "            # do something\n",
        "        except:\n",
        "            pass\n",
        "\n",
        "    def reducer(self, key, counts):\n",
        "        # yield something -- hint you can yield a tuple\n",
        "        yield None, (key, sum(counts))\n",
        "        pass\n",
        "   \n",
        "    def reducer_max(self, key, counts):\n",
        "        # yield something\n",
        "        largest = 0\n",
        "        name = None\n",
        "        for count in counts:\n",
        "          if count[1] > largest:\n",
        "            largest = count[1]\n",
        "            name = count[0]\n",
        "        yield largest, name\n",
        "    \n",
        "    def steps(self):\n",
        "        return [\n",
        "            MRStep(mapper=self.mapper, reducer=self.reducer),\n",
        "            MRStep(reducer=self.reducer_max)\n",
        "        ]\n",
        "\n",
        "\n",
        "if __name__ == '__main__':\n",
        "    GroupMaxTweets.run()"
      ],
      "execution_count": 5,
      "outputs": [
        {
          "output_type": "stream",
          "name": "stdout",
          "text": [
            "Overwriting 2_group.py\n"
          ]
        }
      ]
    },
    {
      "source": [
        "## Step 1. Run MR program locally(Colab)"
      ],
      "cell_type": "markdown",
      "metadata": {
        "id": "2KCc36dTbCO0"
      }
    },
    {
      "cell_type": "code",
      "metadata": {
        "id": "vRnqxnrBCPwg",
        "outputId": "3b1af37b-0a6f-4f91-9696-b0c19242834e",
        "colab": {
          "base_uri": "https://localhost:8080/"
        }
      },
      "source": [
        "%%time\n",
        "!python 2_group.py -r local nashville-tweets-2019-01-28"
      ],
      "execution_count": 6,
      "outputs": [
        {
          "output_type": "stream",
          "name": "stdout",
          "text": [
            "No configs found; falling back on auto-configuration\n",
            "No configs specified for local runner\n",
            "Creating temp directory /tmp/2_group.root.20230330.215543.093364\n",
            "Running step 1 of 2...\n",
            "Running step 2 of 2...\n",
            "job output is in /tmp/2_group.root.20230330.215543.093364/output\n",
            "Streaming final output from /tmp/2_group.root.20230330.215543.093364/output...\n",
            "88\t\"rpsabo\"\n",
            "Removing temp directory /tmp/2_group.root.20230330.215543.093364...\n",
            "CPU times: user 41.2 ms, sys: 21.8 ms, total: 63 ms\n",
            "Wall time: 4.78 s\n"
          ]
        }
      ]
    },
    {
      "source": [
        "## Step 2. Run MR program on AWS EMR"
      ],
      "cell_type": "markdown",
      "metadata": {
        "id": "1eH1pOsYbCO1"
      }
    },
    {
      "source": [
        "### Please copy nashville-tweets-2019-01-28 into your S3 bucket."
      ],
      "cell_type": "markdown",
      "metadata": {
        "id": "X_LjrKOQbCO1"
      }
    },
    {
      "cell_type": "code",
      "metadata": {
        "id": "YvMYiGCDCWDI"
      },
      "source": [
        "%%time\n",
        "!python 2_group.py -r emr s3://<s3 url of the Tweet dataset> --cloud-tmp-dir=s3://<s3 url of tmp directory> --cluster-id=<cluster ID> --conf-path <mrjob.conf file path in colab> > 2_group.out"
      ],
      "execution_count": null,
      "outputs": []
    },
    {
      "cell_type": "code",
      "metadata": {
        "id": "mVsLCVLICCAZ"
      },
      "source": [
        "#test the code run\n",
        "\n",
        "f = open('2_group.out')\n",
        "lines = f.readlines()\n",
        "f.close()\n",
        "\n",
        "assert lines[0][:-1] in ['88\\t\"rpsabo\"']\n",
        "print(\"test passed\")"
      ],
      "execution_count": null,
      "outputs": []
    }
  ]
}